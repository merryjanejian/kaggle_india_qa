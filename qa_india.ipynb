{
 "cells": [
  {
   "cell_type": "code",
   "execution_count": 2,
   "metadata": {},
   "outputs": [
    {
     "name": "stdout",
     "output_type": "stream",
     "text": [
      "4.9.2\n"
     ]
    }
   ],
   "source": [
    "#! pip3 install transformers\n",
    "import transformers\n",
    "print(transformers.__version__)"
   ]
  },
  {
   "cell_type": "code",
   "execution_count": 176,
   "metadata": {},
   "outputs": [],
   "source": [
    "# This flag is the difference between SQUAD v1 or 2 (if you're using another dataset, it indicates if impossible\n",
    "# answers are allowed or not).\n",
    "squad_v2 = False\n",
    "model_checkpoint='./xlm-roberta'\n",
    "batch_size = 4"
   ]
  },
  {
   "cell_type": "code",
   "execution_count": 2,
   "metadata": {},
   "outputs": [
    {
     "name": "stdout",
     "output_type": "stream",
     "text": [
      "1.11.0\n"
     ]
    }
   ],
   "source": [
    "#!pip3 install datasets\n",
    "from datasets import load_dataset\n",
    "import datasets\n",
    "print (datasets.__version__)"
   ]
  },
  {
   "cell_type": "code",
   "execution_count": 173,
   "metadata": {},
   "outputs": [
    {
     "name": "stderr",
     "output_type": "stream",
     "text": [
      "Using custom data configuration default-f17c46892de75ae9\n",
      "Reusing dataset csv (/home/rao/.cache/huggingface/datasets/csv/default-f17c46892de75ae9/0.0.0/9144e0a4e8435090117cea53e6c7537173ef2304525df4a077c435d8ee7828ff)\n"
     ]
    }
   ],
   "source": [
    "#datasets = load_dataset('csv', data_files='./data/train.csv')\n",
    "\n",
    "datasets = load_dataset('csv', data_files={'train': './data/train.csv',\n",
    "                                          'validation': './data/train.csv'})\n",
    "                                          #'test':'./data/test.csv'})"
   ]
  },
  {
   "cell_type": "code",
   "execution_count": 177,
   "metadata": {},
   "outputs": [
    {
     "data": {
      "text/plain": [
       "Dataset({\n",
       "    features: ['id', 'context', 'question', 'answer_text', 'answer_start', 'language'],\n",
       "    num_rows: 1114\n",
       "})"
      ]
     },
     "execution_count": 177,
     "metadata": {},
     "output_type": "execute_result"
    }
   ],
   "source": [
    "datasets['validation']"
   ]
  },
  {
   "cell_type": "code",
   "execution_count": 178,
   "metadata": {},
   "outputs": [],
   "source": [
    "from datasets import ClassLabel, Sequence\n",
    "import random\n",
    "import pandas as pd\n",
    "from IPython.display import display, HTML\n",
    "\n",
    "def show_random_elements(dataset, num_examples=10):\n",
    "    assert num_examples <= len(dataset), \"Can't pick more elements than there are in the dataset.\"\n",
    "    picks = []\n",
    "    for _ in range(num_examples):\n",
    "        pick = random.randint(0, len(dataset)-1)\n",
    "        while pick in picks:\n",
    "            pick = random.randint(0, len(dataset)-1)\n",
    "        picks.append(pick)\n",
    "    \n",
    "    df = pd.DataFrame(dataset[picks])\n",
    "    for column, typ in dataset.features.items():\n",
    "        if isinstance(typ, ClassLabel):\n",
    "            df[column] = df[column].transform(lambda i: typ.names[i])\n",
    "        elif isinstance(typ, Sequence) and isinstance(typ.feature, ClassLabel):\n",
    "            df[column] = df[column].transform(lambda x: [typ.feature.names[i] for i in x])\n",
    "    display(HTML(df.to_html()))"
   ]
  },
  {
   "cell_type": "code",
   "execution_count": 179,
   "metadata": {},
   "outputs": [],
   "source": [
    "#show_random_elements(dataset[\"train\"])"
   ]
  },
  {
   "cell_type": "code",
   "execution_count": 180,
   "metadata": {},
   "outputs": [
    {
     "name": "stderr",
     "output_type": "stream",
     "text": [
      "loading configuration file ./xlm-roberta/config.json\n",
      "Model config XLMRobertaConfig {\n",
      "  \"architectures\": [\n",
      "    \"XLMRobertaForMaskedLM\"\n",
      "  ],\n",
      "  \"attention_probs_dropout_prob\": 0.1,\n",
      "  \"bos_token_id\": 0,\n",
      "  \"eos_token_id\": 2,\n",
      "  \"gradient_checkpointing\": false,\n",
      "  \"hidden_act\": \"gelu\",\n",
      "  \"hidden_dropout_prob\": 0.1,\n",
      "  \"hidden_size\": 768,\n",
      "  \"initializer_range\": 0.02,\n",
      "  \"intermediate_size\": 3072,\n",
      "  \"layer_norm_eps\": 1e-05,\n",
      "  \"max_position_embeddings\": 514,\n",
      "  \"model_type\": \"xlm-roberta\",\n",
      "  \"num_attention_heads\": 12,\n",
      "  \"num_hidden_layers\": 12,\n",
      "  \"output_past\": true,\n",
      "  \"pad_token_id\": 1,\n",
      "  \"position_embedding_type\": \"absolute\",\n",
      "  \"transformers_version\": \"4.9.2\",\n",
      "  \"type_vocab_size\": 1,\n",
      "  \"use_cache\": true,\n",
      "  \"vocab_size\": 250002\n",
      "}\n",
      "\n",
      "Didn't find file ./xlm-roberta/added_tokens.json. We won't load it.\n",
      "Didn't find file ./xlm-roberta/special_tokens_map.json. We won't load it.\n",
      "loading file ./xlm-roberta/sentencepiece.bpe.model\n",
      "loading file ./xlm-roberta/tokenizer.json\n",
      "loading file None\n",
      "loading file None\n",
      "loading file ./xlm-roberta/tokenizer_config.json\n",
      "loading configuration file ./xlm-roberta/config.json\n",
      "Model config XLMRobertaConfig {\n",
      "  \"architectures\": [\n",
      "    \"XLMRobertaForMaskedLM\"\n",
      "  ],\n",
      "  \"attention_probs_dropout_prob\": 0.1,\n",
      "  \"bos_token_id\": 0,\n",
      "  \"eos_token_id\": 2,\n",
      "  \"gradient_checkpointing\": false,\n",
      "  \"hidden_act\": \"gelu\",\n",
      "  \"hidden_dropout_prob\": 0.1,\n",
      "  \"hidden_size\": 768,\n",
      "  \"initializer_range\": 0.02,\n",
      "  \"intermediate_size\": 3072,\n",
      "  \"layer_norm_eps\": 1e-05,\n",
      "  \"max_position_embeddings\": 514,\n",
      "  \"model_type\": \"xlm-roberta\",\n",
      "  \"num_attention_heads\": 12,\n",
      "  \"num_hidden_layers\": 12,\n",
      "  \"output_past\": true,\n",
      "  \"pad_token_id\": 1,\n",
      "  \"position_embedding_type\": \"absolute\",\n",
      "  \"transformers_version\": \"4.9.2\",\n",
      "  \"type_vocab_size\": 1,\n",
      "  \"use_cache\": true,\n",
      "  \"vocab_size\": 250002\n",
      "}\n",
      "\n"
     ]
    }
   ],
   "source": [
    "from transformers import AutoTokenizer\n",
    "    \n",
    "tokenizer = AutoTokenizer.from_pretrained(model_checkpoint)"
   ]
  },
  {
   "cell_type": "code",
   "execution_count": 181,
   "metadata": {},
   "outputs": [],
   "source": [
    "import transformers\n",
    "assert isinstance(tokenizer, transformers.PreTrainedTokenizerFast)"
   ]
  },
  {
   "cell_type": "code",
   "execution_count": 182,
   "metadata": {},
   "outputs": [
    {
     "data": {
      "text/plain": [
       "{'input_ids': [0, 151677, 641, 40696, 10386, 66646, 153261, 460, 32, 2, 2, 151677, 641, 40696, 10386, 66646, 153261, 460, 32, 2], 'attention_mask': [1, 1, 1, 1, 1, 1, 1, 1, 1, 1, 1, 1, 1, 1, 1, 1, 1, 1, 1, 1]}"
      ]
     },
     "execution_count": 182,
     "metadata": {},
     "output_type": "execute_result"
    }
   ],
   "source": [
    "tokenizer(\"एशिया का कुल क्षेत्रफल कितना है?\",\"एशिया का कुल क्षेत्रफल कितना है?\")"
   ]
  },
  {
   "cell_type": "code",
   "execution_count": 183,
   "metadata": {},
   "outputs": [],
   "source": [
    "max_length = 256 # The maximum length of a feature (question and context)\n",
    "doc_stride = 32 # The authorized overlap between two part of the context when splitting it is needed."
   ]
  },
  {
   "cell_type": "code",
   "execution_count": 184,
   "metadata": {},
   "outputs": [],
   "source": [
    "\n",
    "for i, example in enumerate(datasets[\"train\"]):\n",
    "    if len(tokenizer(example[\"question\"], example[\"context\"])[\"input_ids\"]) > 384:\n",
    "        break\n",
    "example = datasets[\"train\"][i]"
   ]
  },
  {
   "cell_type": "code",
   "execution_count": 185,
   "metadata": {},
   "outputs": [
    {
     "data": {
      "text/plain": [
       "1504"
      ]
     },
     "execution_count": 185,
     "metadata": {},
     "output_type": "execute_result"
    }
   ],
   "source": [
    "len(tokenizer(example[\"question\"], example[\"context\"])[\"input_ids\"])"
   ]
  },
  {
   "cell_type": "code",
   "execution_count": 186,
   "metadata": {},
   "outputs": [
    {
     "data": {
      "text/plain": [
       "256"
      ]
     },
     "execution_count": 186,
     "metadata": {},
     "output_type": "execute_result"
    }
   ],
   "source": [
    "len(tokenizer(example[\"question\"], example[\"context\"], max_length=max_length, truncation=\"only_second\")[\"input_ids\"])"
   ]
  },
  {
   "cell_type": "code",
   "execution_count": 187,
   "metadata": {},
   "outputs": [
    {
     "data": {
      "text/plain": [
       "'மனித உடலில் எத்தனை எலும்புகள் உள்ளன?'"
      ]
     },
     "execution_count": 187,
     "metadata": {},
     "output_type": "execute_result"
    }
   ],
   "source": [
    " example[\"question\"]"
   ]
  },
  {
   "cell_type": "code",
   "execution_count": 188,
   "metadata": {},
   "outputs": [],
   "source": [
    "tokenized_example = tokenizer(\n",
    "    example[\"question\"],\n",
    "    example[\"context\"],\n",
    "    max_length=max_length,\n",
    "    truncation='only_second',\n",
    "    return_overflowing_tokens=True,\n",
    "    stride=doc_stride\n",
    ")"
   ]
  },
  {
   "cell_type": "code",
   "execution_count": 189,
   "metadata": {},
   "outputs": [
    {
     "name": "stdout",
     "output_type": "stream",
     "text": [
      "[256, 256, 256, 256, 256, 256, 244]\n",
      "<s> மனித உடலில் எத்தனை எலும்புகள் உள்ளன?</s></s> ஒரு சாதாரண வளர்ந்த மனிதனுடைய எலும்புக்கூடு பின்வரும் 206 (மார்பெலும்பு மூன்று பகுதிகளாகக் கருதப்பட்டால் 208) எண்ணிக்கையான எலும்புகளைக் கொண்டிருக்கும். இந்த எண்ணிக்கை உடற்கூட்டியல் வேறுபாடுகளைப் பொறுத்து மாறுபடக்கூடும். எடுத்துக்காட்டாக, மிகக் குறைந்த எண்ணிக்கையான மனிதர்களில், ஒரு மேலதிக விலா எலும்பு (கழுத்துவில்) அல்லது ஒரு மேலதிகமான கீழ் முதுகெலும்பு காணப்படுவதுண்டு; இணைந்த சில எலும்புகளைத் தனி எலும்பாகக் கருதாவிடின், ஐந்து இணைந்த திருவெலும்பு; மூன்று (3 - 5) குயிலலகு எலும்புகள் சேர்ந்து 26 எண்ணிக்கையிலான முதுகெலும்புகள் 33 ஆகக் கருதப்படலாம். மனித மண்டையோட்டில் 22 எலும்புகள் (காதுச் சிற்றென்புகளைத் தவிர) உள்ளன; இவை எட்டு மண்டையறை (cranium) எலும்புகளாகவும் 14 முக எலும்புகளாகவும் (facial bones) பிரிக்கப்பட்டுள்ளன. (தடித்த எண்கள் அருகிலுள்ள படத்தில் காணும் எண்களைக் குறிக்கின்றன.) மண்டையறை எலும்பு</s>\n",
      "<s> மனித உடலில் எத்தனை எலும்புகள் உள்ளன?</s></s>s) பிரிக்கப்பட்டுள்ளன. (தடித்த எண்கள் அருகிலுள்ள படத்தில் காணும் எண்களைக் குறிக்கின்றன.) மண்டையறை எலும்புகள் (8) 1 நுதலெலும்பு (frontal bone) 2 சுவரெலும்பு (parietal bone) (2) 3 கடைநுதலெலும்பு (temporal bone) (2) 4 பிடர் எலும்பு (occipital bone) ஆப்புரு எலும்பு (sphenoid bone) நெய்யரியெலும்பு (ethmoid bone) முக எலும்புகள் (14) 7 கீழ்த்தாடை எலும்பு (mandible) 6 மேற்றாடை எலும்பு (maxilla) (2) அண்ணவெலும்பு (palatine bone) (2) 5 கன்ன எலும்பு (zygomatic bone) (2) 9 நாசி எலும்பு (nasal bone) (2) கண்ணீர் எலும்பு (lacrimal bone) (2) மூக்குச் சுவர் எலும்பு (vomer) கீழ் மூக்குத் தடுப்பெலும்பு (inferior nasal conchae) (2) நடுக்காதுகளில் (6): சம்மட்டியுரு (malleus) பட்டையுரு (incus</s>\n"
     ]
    }
   ],
   "source": [
    "print (\n",
    "[len(x) for x in tokenized_example[\"input_ids\"]])\n",
    "for x in tokenized_example[\"input_ids\"][:2]:\n",
    "    print(tokenizer.decode(x))\n"
   ]
  },
  {
   "cell_type": "code",
   "execution_count": 190,
   "metadata": {},
   "outputs": [
    {
     "name": "stdout",
     "output_type": "stream",
     "text": [
      "[(0, 0), (0, 4), (5, 7), (7, 11), (12, 18), (19, 20), (20, 24), (24, 26), (26, 29), (30, 35), (35, 36), (0, 0), (0, 0), (0, 3), (4, 10), (11, 15), (15, 18), (19, 23), (23, 24), (24, 28), (29, 30), (30, 34), (34, 36), (36, 41), (41, 42), (43, 47), (47, 52), (53, 56), (57, 58), (58, 60), (60, 62), (62, 64), (64, 68), (68, 70), (71, 77), (78, 83), (83, 87), (87, 89), (90, 94), (94, 100), (100, 103), (104, 107), (107, 108), (109, 118), (118, 121), (122, 123), (123, 127), (127, 129), (129, 134), (135, 140), (140, 149), (149, 150), (151, 155), (156, 165), (166, 168), (168, 170), (170, 172), (172, 175), (175, 179), (180, 184), (184, 188), (188, 193), (194, 201), (201, 202), (203, 205), (205, 207), (207, 209), (209, 214), (214, 217), (217, 218), (219, 228), (228, 230), (230, 234), (234, 235), (235, 236), (237, 240), (240, 242), (243, 250), (251, 260), (260, 263), (264, 270), (270, 275), (275, 276), (277, 280), (281, 284), (284, 286), (286, 287), (288, 290), (290, 292), (293, 294), (294, 298), (298, 300), (301, 302), (302, 303), (303, 305), (305, 309), (309, 313), (313, 314), (315, 321), (322, 325)]\n"
     ]
    }
   ],
   "source": [
    "\n",
    "tokenized_example = tokenizer(\n",
    "    example[\"question\"],\n",
    "    example[\"context\"],\n",
    "    max_length=max_length,\n",
    "    truncation=\"only_second\",\n",
    "    return_overflowing_tokens=True,\n",
    "    return_offsets_mapping=True,\n",
    "    stride=doc_stride\n",
    ")\n",
    "print(tokenized_example[\"offset_mapping\"][0][:100])"
   ]
  },
  {
   "cell_type": "code",
   "execution_count": 191,
   "metadata": {},
   "outputs": [
    {
     "name": "stdout",
     "output_type": "stream",
     "text": [
      "▁மனித மனித\n"
     ]
    }
   ],
   "source": [
    "first_token_id = tokenized_example[\"input_ids\"][0][1]\n",
    "offsets = tokenized_example[\"offset_mapping\"][0][1]\n",
    "print(tokenizer.convert_ids_to_tokens([first_token_id])[0], example[\"question\"][offsets[0]:offsets[1]])"
   ]
  },
  {
   "cell_type": "code",
   "execution_count": 192,
   "metadata": {},
   "outputs": [
    {
     "name": "stdout",
     "output_type": "stream",
     "text": [
      "[None, 0, 0, 0, 0, 0, 0, 0, 0, 0, 0, None, None, 1, 1, 1, 1, 1, 1, 1, 1, 1, 1, 1, 1, 1, 1, 1, 1, 1, 1, 1, 1, 1, 1, 1, 1, 1, 1, 1, 1, 1, 1, 1, 1, 1, 1, 1, 1, 1, 1, 1, 1, 1, 1, 1, 1, 1, 1, 1, 1, 1, 1, 1, 1, 1, 1, 1, 1, 1, 1, 1, 1, 1, 1, 1, 1, 1, 1, 1, 1, 1, 1, 1, 1, 1, 1, 1, 1, 1, 1, 1, 1, 1, 1, 1, 1, 1, 1, 1, 1, 1, 1, 1, 1, 1, 1, 1, 1, 1, 1, 1, 1, 1, 1, 1, 1, 1, 1, 1, 1, 1, 1, 1, 1, 1, 1, 1, 1, 1, 1, 1, 1, 1, 1, 1, 1, 1, 1, 1, 1, 1, 1, 1, 1, 1, 1, 1, 1, 1, 1, 1, 1, 1, 1, 1, 1, 1, 1, 1, 1, 1, 1, 1, 1, 1, 1, 1, 1, 1, 1, 1, 1, 1, 1, 1, 1, 1, 1, 1, 1, 1, 1, 1, 1, 1, 1, 1, 1, 1, 1, 1, 1, 1, 1, 1, 1, 1, 1, 1, 1, 1, 1, 1, 1, 1, 1, 1, 1, 1, 1, 1, 1, 1, 1, 1, 1, 1, 1, 1, 1, 1, 1, 1, 1, 1, 1, 1, 1, 1, 1, 1, 1, 1, 1, 1, 1, 1, 1, 1, 1, 1, 1, 1, 1, 1, 1, 1, 1, 1, 1, 1, 1, 1, 1, None]\n"
     ]
    }
   ],
   "source": [
    "sequence_ids = tokenized_example.sequence_ids()\n",
    "print(sequence_ids)"
   ]
  },
  {
   "cell_type": "code",
   "execution_count": 193,
   "metadata": {},
   "outputs": [
    {
     "data": {
      "text/plain": [
       "{'id': '903deec17',\n",
       " 'context': 'ஒரு சாதாரண வளர்ந்த மனிதனுடைய எலும்புக்கூடு பின்வரும் 206 (மார்பெலும்பு மூன்று பகுதிகளாகக் கருதப்பட்டால் 208) எண்ணிக்கையான எலும்புகளைக் கொண்டிருக்கும். இந்த எண்ணிக்கை உடற்கூட்டியல் வேறுபாடுகளைப் பொறுத்து மாறுபடக்கூடும். எடுத்துக்காட்டாக, மிகக் குறைந்த எண்ணிக்கையான மனிதர்களில், ஒரு மேலதிக விலா எலும்பு (கழுத்துவில்) அல்லது ஒரு மேலதிகமான கீழ் முதுகெலும்பு காணப்படுவதுண்டு; இணைந்த சில எலும்புகளைத் தனி எலும்பாகக் கருதாவிடின், ஐந்து இணைந்த திருவெலும்பு; மூன்று (3 - 5) குயிலலகு எலும்புகள் சேர்ந்து 26 எண்ணிக்கையிலான முதுகெலும்புகள் 33 ஆகக் கருதப்படலாம்.\\nமனித மண்டையோட்டில் 22 எலும்புகள் (காதுச் சிற்றென்புகளைத் தவிர) உள்ளன; இவை எட்டு மண்டையறை (cranium) எலும்புகளாகவும் 14 முக எலும்புகளாகவும் (facial bones) பிரிக்கப்பட்டுள்ளன. (தடித்த எண்கள் அருகிலுள்ள படத்தில் காணும் எண்களைக் குறிக்கின்றன.)\\n\\n\\n\\nமண்டையறை எலும்புகள் (8)\\n 1 நுதலெலும்பு (frontal bone) \\n 2 சுவரெலும்பு (parietal bone) (2)\\n 3 கடைநுதலெலும்பு (temporal bone) (2)\\n 4 பிடர் எலும்பு (occipital bone)\\n ஆப்புரு எலும்பு (sphenoid bone)\\n நெய்யரியெலும்பு (ethmoid bone)\\nமுக எலும்புகள் (14)\\n 7 கீழ்த்தாடை எலும்பு (mandible)\\n 6 மேற்றாடை எலும்பு (maxilla) (2)\\n அண்ணவெலும்பு (palatine bone) (2)\\n 5 கன்ன எலும்பு (zygomatic bone) (2)\\n 9 நாசி எலும்பு (nasal bone) (2)\\n கண்ணீர் எலும்பு (lacrimal bone) (2)\\n மூக்குச் சுவர் எலும்பு (vomer)\\n கீழ் மூக்குத் தடுப்பெலும்பு (inferior nasal conchae) (2)\\nநடுக்காதுகளில் (6):\\n சம்மட்டியுரு (malleus)\\n பட்டையுரு (incus) \\n ஏந்தியுரு (stapes)\\nதொண்டையில் (1):\\n தொண்டை எலும்பு (நாவடி எலும்பு) (hyoid)\\nதோள் பட்டையில் (4):\\n 25. காறை எலும்பு (clavicle)\\n 29. தோள் எலும்பு (scapula)\\nமார்புக்கூட்டில் thorax(25): \\n 10. மார்பெலும்பு (sternum) (1)\\n மேலும் மூன்று என்புகளாகக் கருதப்படலாம்: பிடியுரு (manubrium), உடல் மார்பெலும்பு (body of sternum), வாள்வடிவ நீட்டம் (xiphoid process)\\n 28. விலா எலும்புகள் (rib) (24)\\n முதுகெலும்புத் தூண் (vertebral column) (33): \\n 8. கழுத்து முள்ளெலும்புகள் (cervical vertebra) (7)\\n மார்பு முள்ளெலும்புகள் (thoracic vertebra) (12)\\n 14. நாரிமுள்ளெலும்புகள் (lumbar vertebra) (5)\\n 16. திரிகம் (திருவெலும்பு) (sacrum)\\n வால் எலும்பு (குயிலலகு) (coccyx)\\nமேற்கைகளில் (arm) (1): \\n 11. புய எலும்பு (மேல்கை எலும்பு) (humerus)\\n 26. புய எலும்புப் புடைப்பு (மேல்கை எலும்புப் புடைப்பு) (condyles of humerus)\\nமுன்கைகளில் (forearm) (4): \\n 12. அரந்தி (ulna) (2)\\n 13. ஆரை எலும்பு (radius) (2)\\n 27. ஆரை எலும்புத் தலை (head of radius)\\nகைகளில் (hand) (54): \\n மணிக்கட்டுகள் (carpal):\\n படகெலும்பு (scaphoid) (2)\\n பிறைக்குழி எலும்பு (lunate) (2)\\n முப்பட்டை எலும்புtriquetrum) (2)\\n பட்டாணி எலும்பு (pisiform) (2)\\n சரிவக எலும்பு (trapezium) (2)\\n நாற்புறவுரு எலும்பு (trapezoid) (2)\\n தலையுரு எலும்பு (capitate) (2)\\n கொக்கி எலும்பு (hamate) (2)\\n அங்கை முன்னெலும்புகள் (அனுமணிக்கட்டு எலும்புகள்) (metacarpal): (5 × 2)\\n விரலெலும்புகள் (phalange): \\n அண்மை விரலெலும்புகள் (proximal phalanges) (5 × 2)\\n நடு விரலெலும்புகள் (Intermediate phalanges) (4 × 2)\\n தொலை விரலெலும்புகள் (distal phalanges) (5 × 2)\\nஇடுப்பு வளையம் (pelvis) (2):\\n 15. இடுப்பெலும்பு (ilium) மற்றும் கீழ் இடுப்பெலும்பு (ischium)\\n\\n\\nகால்கள் (leg) (8): \\n 18. தொடையெலும்பு (femur) (2)\\n 17. இடுப்பு மூட்டு (hip joint) (மூட்டு, எலும்பல்ல) \\n 22. பெரிய தொடையெலும்புக் கொண்டை (greater trochanter of femur)\\n 23. தொடையெலும்புப் புடைப்பு (condyles of femur)\\n 19. சில்லெலும்பு (patella) (2)\\n 20. கால் முன்னெலும்பு (கணைக்காலலுள்ளெலும்பு) (tibia) (2)\\n 21. சிம்பு எலும்பு (கணைக்கால்வெளியெலும்பு) (fibula) (2)\\nகாலடிகளில் (52): \\n கணுக்காலெலும்புகள் (tarsal):\\n குதிகால் (calcaneus) (2)\\n முட்டி (talus) (2)\\n படகுரு எலும்பு (navicular bone) (2)\\n உள் ஆப்புவடிவ எலும்பு (2) \\n இடை ஆப்புவடிவ எலும்பு (2)\\n வெளி ஆப்புவடிவ எலும்பு (2)\\n கனசதுர எலும்பு (cuboidal bone) (2)\\n அனுகணுக்காலெலும்புகள் (metatarsal) (5 × 2)\\n விரலெலும்புகள் (phalange):\\n அண்மை விரலெலும்புகள் (proximal phalanges) (5 × 2)\\n நடு விரலெலும்புகள் (intermediate phalanges) (4 × 2)\\n தொலை விரலெலும்புகள் (distal phalanges) (5 × 2)\\n குழந்தை எலும்புக்கூடு \\nகுழந்தைகளின் எலும்புக்கூடுகளில் கீழ் வரும் எலும்புகள் மேலதிகமாக உள்ளன:\\n மண்டையறை மற்றும் மண்டையோட்டு எலும்புகள் (21), இவை ஒன்றாகி மண்டையறையை உருவாக்குகின்றன.\\n திரிக முள்ளெலும்புகள் (sacral vertebrae) (4 or 5), வளர்ந்தோரில் இவை ஒன்றாகி திரிகத்தை உருவாக்குகின்றன \\n coccygeal vertebrae (3 to 5), வளர்ந்தோரில் இவை ஒன்றாகி வாலெலும்பை உருவாக்குகின்றன\\n இடுப்பெலும்பு, கீழ் இடுப்பெலும்பு மற்றும் பொச்செலும்பு (pubis), என்பவை வளர்ந்தோரில் ஒன்றாகி இடுப்பெலும்பை உருவாக்குகின்றன\\n\\nபகுப்பு:மனித உடற்கூற்றியல்\\nபகுப்பு:எலும்புகள்',\n",
       " 'question': 'மனித உடலில் எத்தனை எலும்புகள் உள்ளன?',\n",
       " 'answer_text': '206',\n",
       " 'answer_start': 53,\n",
       " 'language': 'tamil'}"
      ]
     },
     "execution_count": 193,
     "metadata": {},
     "output_type": "execute_result"
    }
   ],
   "source": [
    "example"
   ]
  },
  {
   "cell_type": "code",
   "execution_count": 194,
   "metadata": {},
   "outputs": [
    {
     "name": "stdout",
     "output_type": "stream",
     "text": [
      "27 27\n"
     ]
    }
   ],
   "source": [
    "#answers = example[\"answers\"]\n",
    "start_char = example[\"answer_start\"] \n",
    "end_char = start_char + len(example[\"answer_text\"])\n",
    "\n",
    "\n",
    "# Start token index of the current span in the text.\n",
    "token_start_index = 0\n",
    "while sequence_ids[token_start_index] != 1:\n",
    "    token_start_index += 1\n",
    "\n",
    "# End token index of the current span in the text.\n",
    "token_end_index = len(tokenized_example[\"input_ids\"][0]) - 1\n",
    "while sequence_ids[token_end_index] != 1:\n",
    "    token_end_index -= 1\n",
    "\n",
    "# Detect if the answer is out of the span (in which case this feature is labeled with the CLS index).\n",
    "offsets = tokenized_example[\"offset_mapping\"][0]\n",
    "if (offsets[token_start_index][0] <= start_char and offsets[token_end_index][1] >= end_char):\n",
    "    # Move the token_start_index and token_end_index to the two ends of the answer.\n",
    "    # Note: we could go after the last offset if the answer is the last word (edge case).\n",
    "    while token_start_index < len(offsets) and offsets[token_start_index][0] <= start_char:\n",
    "        token_start_index += 1\n",
    "    start_position = token_start_index - 1\n",
    "    while offsets[token_end_index][1] >= end_char:\n",
    "        token_end_index -= 1\n",
    "    end_position = token_end_index + 1\n",
    "    print(start_position, end_position)\n",
    "else:\n",
    "    print(\"The answer is not in this feature.\")"
   ]
  },
  {
   "cell_type": "code",
   "execution_count": 195,
   "metadata": {},
   "outputs": [
    {
     "name": "stdout",
     "output_type": "stream",
     "text": [
      "206\n",
      "206\n"
     ]
    }
   ],
   "source": [
    "print(tokenizer.decode(tokenized_example[\"input_ids\"][0][start_position: end_position+1]))\n",
    "print( example[\"answer_text\"])"
   ]
  },
  {
   "cell_type": "code",
   "execution_count": 196,
   "metadata": {},
   "outputs": [],
   "source": [
    "pad_on_right = tokenizer.padding_side == \"right\""
   ]
  },
  {
   "cell_type": "code",
   "execution_count": 197,
   "metadata": {},
   "outputs": [],
   "source": [
    "def prepare_train_features(examples):\n",
    "    # Some of the questions have lots of whitespace on the left, which is not useful and will make the\n",
    "    # truncation of the context fail (the tokenized question will take a lots of space). So we remove that\n",
    "    # left whitespace\n",
    "    examples[\"question\"] = [q.lstrip() for q in examples[\"question\"]]\n",
    "\n",
    "    # Tokenize our examples with truncation and padding, but keep the overflows using a stride. This results\n",
    "    # in one example possible giving several features when a context is long, each of those features having a\n",
    "    # context that overlaps a bit the context of the previous feature.\n",
    "    tokenized_examples = tokenizer(\n",
    "        examples[\"question\" if pad_on_right else \"context\"],\n",
    "        examples[\"context\" if pad_on_right else \"question\"],\n",
    "        truncation=\"only_second\" if pad_on_right else \"only_first\",\n",
    "        max_length=max_length,\n",
    "        stride=doc_stride,\n",
    "        return_overflowing_tokens=True,\n",
    "        return_offsets_mapping=True,\n",
    "        padding=\"max_length\",\n",
    "    )\n",
    "\n",
    "    # Since one example might give us several features if it has a long context, we need a map from a feature to\n",
    "    # its corresponding example. This key gives us just that.\n",
    "    sample_mapping = tokenized_examples.pop(\"overflow_to_sample_mapping\")\n",
    "    # The offset mappings will give us a map from token to character position in the original context. This will\n",
    "    # help us compute the start_positions and end_positions.\n",
    "    offset_mapping = tokenized_examples.pop(\"offset_mapping\")\n",
    "\n",
    "    # Let's label those examples!\n",
    "    tokenized_examples[\"start_positions\"] = []\n",
    "    tokenized_examples[\"end_positions\"] = []\n",
    "    \n",
    "    for i, offsets in enumerate(offset_mapping):\n",
    "        # We will label impossible answers with the index of the CLS token.\n",
    "        input_ids = tokenized_examples[\"input_ids\"][i]\n",
    "        cls_index = input_ids.index(tokenizer.cls_token_id)\n",
    "\n",
    "        # Grab the sequence corresponding to that example (to know what is the context and what is the question).\n",
    "        sequence_ids = tokenized_examples.sequence_ids(i)\n",
    "\n",
    "        # One example can give several spans, this is the index of the example containing this span of text.\n",
    "        sample_index = sample_mapping[i]\n",
    "        #answers = examples[\"answers\"][sample_index]\n",
    "        # If no answers are given, set the cls_index as answer.\n",
    "        if examples[\"answer_start\"][sample_index]==0:\n",
    "            tokenized_examples[\"start_positions\"].append(cls_index)\n",
    "            tokenized_examples[\"end_positions\"].append(cls_index)\n",
    "        else:\n",
    "            # Start/end character index of the answer in the text.\n",
    "            start_char = examples[\"answer_start\"][sample_index]\n",
    "            end_char = start_char + len(examples[\"answer_text\"][sample_index])\n",
    "\n",
    "            # Start token index of the current span in the text.\n",
    "            token_start_index = 0\n",
    "            while sequence_ids[token_start_index] != (1 if pad_on_right else 0):\n",
    "                token_start_index += 1\n",
    "\n",
    "            # End token index of the current span in the text.\n",
    "            token_end_index = len(input_ids) - 1\n",
    "            while sequence_ids[token_end_index] != (1 if pad_on_right else 0):\n",
    "                token_end_index -= 1\n",
    "            \n",
    "            # Detect if the answer is out of the span (in which case this feature is labeled with the CLS index).\n",
    "            if not (offsets[token_start_index][0] <= start_char and offsets[token_end_index][1] >= end_char):\n",
    "                tokenized_examples[\"start_positions\"].append(cls_index)\n",
    "                tokenized_examples[\"end_positions\"].append(cls_index)\n",
    "            else:\n",
    "                # Otherwise move the token_start_index and token_end_index to the two ends of the answer.\n",
    "                # Note: we could go after the last offset if the answer is the last word (edge case).\n",
    "                while token_start_index < len(offsets) and offsets[token_start_index][0] <= start_char:\n",
    "                    token_start_index += 1\n",
    "                tokenized_examples[\"start_positions\"].append(token_start_index - 1)\n",
    "                while offsets[token_end_index][1] >= end_char:\n",
    "                    token_end_index -= 1\n",
    "                tokenized_examples[\"end_positions\"].append(token_end_index + 1)\n",
    "\n",
    "    return tokenized_examples"
   ]
  },
  {
   "cell_type": "code",
   "execution_count": 198,
   "metadata": {},
   "outputs": [
    {
     "data": {
      "text/plain": [
       "{'input_ids': [[0, 69535, 81049, 37368, 153264, 12095, 52989, 21883, 1629, 145615, 32, 2, 2, 3219, 224013, 124335, 5966, 69535, 4930, 74149, 12095, 52989, 21883, 182394, 3686, 51833, 57210, 101912, 15, 6161, 2912, 70597, 52989, 21883, 102080, 54512, 91585, 1962, 212933, 18599, 16242, 94236, 16, 198236, 29160, 12095, 52989, 21883, 173139, 23618, 72817, 5, 5894, 198236, 81049, 37334, 144257, 7827, 82890, 84853, 80517, 114452, 232094, 3686, 17984, 11830, 62001, 182394, 4167, 5, 203312, 10753, 50667, 2650, 4, 45303, 1962, 163062, 198236, 29160, 176030, 15453, 4, 3219, 171093, 5944, 2650, 8120, 10175, 12095, 52989, 21883, 15, 2650, 24183, 5638, 14861, 16, 56735, 3219, 171093, 5944, 2650, 12009, 145578, 10832, 2802, 2650, 26873, 52989, 21883, 53336, 26415, 38640, 31067, 74, 105457, 5966, 22050, 12095, 52989, 21883, 202342, 59386, 12095, 52989, 13070, 2650, 1962, 39311, 9654, 37964, 18806, 4, 196586, 105457, 5966, 22467, 78876, 52989, 21883, 74, 102080, 6896, 20, 21162, 14233, 94097, 4864, 12152, 12095, 52989, 21883, 1629, 210828, 1381, 198236, 2782, 191297, 10832, 2802, 2650, 26873, 52989, 21883, 1629, 3912, 59987, 1962, 212933, 26415, 20567, 5, 69535, 9696, 184936, 28258, 89933, 1039, 12095, 52989, 21883, 1629, 15, 10753, 2802, 6149, 11674, 16043, 26873, 2913, 21883, 202342, 137010, 16, 145615, 74, 164359, 12095, 11993, 181576, 87783, 35186, 15, 15182, 53208, 16, 12095, 52989, 21883, 91585, 11772, 616, 71987, 12095, 52989, 21883, 91585, 11772, 15, 1021, 26136, 32881, 7, 16, 73417, 73949, 163493, 5, 15, 4875, 5427, 3770, 136259, 1629, 88115, 2650, 230988, 112578, 53336, 4167, 136259, 173139, 6, 79464, 2798, 143825, 5, 16, 181576, 87783, 35186, 12095, 52989, 21883, 2], [0, 69535, 81049, 37368, 153264, 12095, 52989, 21883, 1629, 145615, 32, 2, 2, 7, 16, 73417, 73949, 163493, 5, 15, 4875, 5427, 3770, 136259, 1629, 88115, 2650, 230988, 112578, 53336, 4167, 136259, 173139, 6, 79464, 2798, 143825, 5, 16, 181576, 87783, 35186, 12095, 52989, 21883, 1629, 10021, 106, 190707, 4875, 128236, 52989, 21883, 15, 20549, 289, 32881, 16, 116, 14184, 3937, 145181, 52989, 21883, 15, 24980, 13, 1803, 32881, 16, 1737, 138, 116180, 17056, 3686, 4875, 128236, 52989, 21883, 15, 99736, 289, 32881, 16, 1737, 201, 22262, 95344, 12095, 52989, 21883, 15, 6652, 88354, 289, 32881, 16, 6001, 6343, 8850, 12095, 52989, 21883, 15, 7, 88322, 48899, 32881, 16, 60070, 12784, 2782, 35424, 26873, 52989, 21883, 15, 12421, 432, 532, 32881, 16, 71987, 12095, 52989, 21883, 1629, 31203, 361, 145578, 51153, 18805, 12095, 52989, 21883, 15, 12018, 28236, 16, 305, 177292, 95424, 18805, 12095, 52989, 21883, 15, 24084, 2298, 16, 1737, 2690, 42353, 78876, 52989, 21883, 15, 16917, 10325, 32881, 16, 1737, 190, 6390, 62481, 12095, 52989, 21883, 15, 3285, 519, 47148, 32881, 16, 1737, 483, 16526, 8040, 12095, 52989, 21883, 15, 76, 2317, 32881, 16, 1737, 90836, 76566, 12095, 52989, 21883, 15, 143, 33692, 2749, 32881, 16, 1737, 34148, 3153, 6149, 14184, 8182, 12095, 52989, 21883, 15, 35309, 56, 16, 145578, 34148, 3153, 3093, 8396, 9000, 2025, 70597, 52989, 21883, 15, 73, 26926, 748, 24, 2317, 158, 1436, 13, 16, 1737, 146931, 42708, 2802, 15453, 6791, 12, 6, 49943, 4548, 10479, 35846, 8850, 15, 88611, 223, 16, 8838, 25950, 35846, 8850, 15, 73, 11680, 2], [0, 69535, 81049, 37368, 153264, 12095, 52989, 21883, 1629, 145615, 32, 2, 2, 26926, 748, 24, 2317, 158, 1436, 13, 16, 1737, 146931, 42708, 2802, 15453, 6791, 12, 6, 49943, 4548, 10479, 35846, 8850, 15, 88611, 223, 16, 8838, 25950, 35846, 8850, 15, 73, 11680, 16, 15377, 38324, 35846, 8850, 15, 590, 13569, 16, 234415, 94706, 798, 12, 234415, 10106, 12095, 52989, 21883, 15, 31840, 3937, 5427, 12095, 52989, 21883, 16, 15, 3038, 48899, 16, 57834, 20539, 74859, 94706, 3971, 12, 11653, 12751, 35186, 12095, 52989, 21883, 15, 18347, 21605, 133, 16, 13646, 57834, 20539, 12095, 52989, 21883, 15, 16275, 42943, 16, 153493, 21883, 2798, 39639, 89933, 14461, 219, 425, 132, 88942, 12, 4068, 153493, 70597, 52989, 21883, 15, 1515, 2606, 16, 798, 41321, 102080, 61995, 3686, 91585, 1962, 212933, 26415, 20567, 12, 6, 91622, 35846, 8850, 15, 669, 5829, 16219, 247, 74759, 153493, 70597, 52989, 21883, 15, 37873, 111, 28063, 2606, 247, 25856, 20539, 3937, 5427, 3937, 19238, 94593, 15, 5134, 22014, 532, 9433, 16, 12511, 8120, 10175, 12095, 52989, 21883, 1629, 15, 11049, 16, 58072, 10832, 2802, 2650, 26873, 52989, 21883, 3093, 46018, 25650, 15, 78867, 51999, 3365, 316, 19, 16, 105735, 12, 3217, 6390, 24183, 5638, 6, 216901, 26873, 52989, 21883, 1629, 15, 3443, 686, 6827, 38715, 2844, 16, 8696, 153493, 21883, 6, 216901, 26873, 52989, 21883, 1629, 15, 18, 27102, 84229, 38715, 2844, 16, 23676, 6370, 16526, 6016, 216901, 26873, 52989, 21883, 1629, 15, 4689, 1299, 38715, 2844, 16, 5211, 6849, 22889, 6016, 22727, 15, 166025, 78876, 52989, 21883, 16, 15, 2], [0, 69535, 81049, 37368, 153264, 12095, 52989, 21883, 1629, 145615, 32, 2, 2, 27102, 84229, 38715, 2844, 16, 23676, 6370, 16526, 6016, 216901, 26873, 52989, 21883, 1629, 15, 4689, 1299, 38715, 2844, 16, 5211, 6849, 22889, 6016, 22727, 15, 166025, 78876, 52989, 21883, 16, 15, 7, 2263, 1605, 16, 6, 127992, 12095, 52989, 21883, 15, 12152, 94097, 4864, 12152, 16, 15, 587, 10060, 53, 425, 16, 177292, 22331, 15453, 15, 56859, 16, 798, 12, 4541, 15413, 2782, 12095, 52989, 21883, 15, 15681, 3769, 22331, 12095, 52989, 21883, 16, 15, 22462, 56, 223, 16, 12490, 15413, 2782, 12095, 52989, 21883, 2025, 15413, 18805, 6343, 15, 15681, 3769, 22331, 12095, 52989, 21883, 2025, 15413, 18805, 6343, 16, 15, 2271, 1459, 1577, 111, 12430, 56, 223, 16, 37436, 22331, 15453, 15, 89700, 56859, 16, 3971, 12, 5035, 118118, 38324, 15, 202, 76, 16, 1737, 5847, 6001, 12309, 12095, 52989, 21883, 15, 10541, 223, 16, 1737, 12498, 6001, 12309, 12095, 52989, 21883, 3093, 30346, 15, 31251, 111, 4567, 223, 16, 35218, 15453, 15, 12336, 16, 170188, 12, 52285, 2798, 11993, 1629, 15, 3284, 5007, 2077, 25699, 2650, 26873, 52989, 21883, 15, 16275, 22014, 532, 16, 1737, 62373, 10106, 3153, 40278, 12095, 52989, 21883, 15, 12328, 2182, 16, 1737, 10832, 7114, 25950, 12095, 52989, 21883, 18, 75087, 35665, 16, 1737, 8838, 50667, 18572, 12095, 52989, 21883, 15, 4994, 14, 5037, 16, 1737, 45489, 3937, 2650, 12095, 52989, 21883, 15, 1517, 124260, 316, 16, 1737, 16526, 71724, 138710, 7967, 8850, 12095, 52989, 21883, 15, 107617, 1255, 48899, 16, 1737, 30346, 35846, 2], [0, 69535, 81049, 37368, 153264, 12095, 52989, 21883, 1629, 145615, 32, 2, 2, 14, 5037, 16, 1737, 45489, 3937, 2650, 12095, 52989, 21883, 15, 1517, 124260, 316, 16, 1737, 16526, 71724, 138710, 7967, 8850, 12095, 52989, 21883, 15, 107617, 1255, 48899, 16, 1737, 30346, 35846, 8850, 12095, 52989, 21883, 15, 15644, 5743, 16, 1737, 31391, 17708, 12095, 52989, 21883, 15, 72883, 67, 16, 1737, 2690, 126835, 65563, 26873, 52989, 21883, 1629, 15, 10145, 34576, 75835, 2798, 11993, 12095, 52989, 21883, 1629, 16, 15, 35273, 3284, 5007, 2077, 11516, 34070, 4958, 8120, 4551, 128236, 52989, 21883, 1629, 15, 14612, 52706, 2077, 2690, 25650, 7539, 8120, 4551, 128236, 52989, 21883, 1629, 15, 64101, 14, 2749, 40681, 52706, 7, 16, 11516, 34070, 4958, 146931, 8120, 4551, 128236, 52989, 21883, 1629, 15, 44851, 12333, 67, 40681, 52706, 7, 16, 9451, 34070, 4958, 180170, 8120, 4551, 128236, 52989, 21883, 1629, 15, 3827, 1803, 40681, 52706, 7, 16, 11516, 34070, 4958, 7216, 9000, 6343, 6, 165545, 33625, 15, 5310, 1824, 16, 1737, 12, 6281, 7216, 9000, 2025, 70597, 52989, 21883, 15, 2104, 316, 16, 13128, 145578, 7216, 9000, 2025, 70597, 52989, 21883, 15, 9370, 6664, 16, 137199, 1629, 15, 2828, 16, 10021, 12, 7744, 68675, 87783, 26873, 52989, 21883, 15, 2242, 5130, 16, 1737, 7076, 7216, 9000, 6343, 34148, 11993, 15, 75577, 124416, 16, 15, 100710, 11993, 4, 12095, 52989, 6509, 27957, 16, 8892, 46756, 68675, 87783, 26873, 52989, 21883, 1962, 23618, 10106, 15, 7134, 46429, 21705, 105924, 111, 6854, 474, 16, 9559, 68675, 87783, 26873, 52989, 21883, 2025, 15413, 18805, 2], [0, 69535, 81049, 37368, 153264, 12095, 52989, 21883, 1629, 145615, 32, 2, 2, 52989, 6509, 27957, 16, 8892, 46756, 68675, 87783, 26873, 52989, 21883, 1962, 23618, 10106, 15, 7134, 46429, 21705, 105924, 111, 6854, 474, 16, 9559, 68675, 87783, 26873, 52989, 21883, 2025, 15413, 18805, 6343, 15, 2271, 1459, 1577, 111, 6854, 474, 16, 6529, 6, 165055, 128236, 52989, 21883, 15, 4453, 4523, 16, 1737, 7085, 137199, 65563, 26873, 52989, 21883, 15, 2650, 46800, 178870, 4864, 35097, 26873, 52989, 21883, 16, 15, 118, 9166, 16, 1737, 7245, 11674, 45439, 12095, 52989, 21883, 15, 2650, 46800, 2798, 16242, 202442, 201529, 52989, 21883, 16, 15, 1029, 32262, 16, 1737, 40582, 5427, 15453, 15, 69622, 12, 57494, 3686, 42708, 128236, 52989, 21883, 1629, 15, 867, 2317, 2077, 14233, 5944, 10753, 3769, 15, 6827, 86553, 223, 16, 1737, 10832, 10479, 15, 1803, 223, 16, 1737, 25699, 12152, 8850, 12095, 52989, 21883, 15, 76, 686, 25667, 32881, 16, 1737, 124261, 6001, 6343, 3937, 5427, 3937, 12095, 52989, 21883, 1737, 115706, 6001, 6343, 3937, 5427, 3937, 12095, 52989, 21883, 1737, 45741, 6001, 6343, 3937, 5427, 3937, 12095, 52989, 21883, 1737, 153390, 9734, 2802, 4551, 12095, 52989, 21883, 15, 1010, 837, 14, 2465, 32881, 16, 1737, 173161, 2650, 113078, 42708, 128236, 52989, 21883, 1629, 15, 35273, 867, 2317, 16, 11516, 34070, 4958, 8120, 4551, 128236, 52989, 21883, 1629, 15, 14612, 52706, 2077, 2690, 25650, 7539, 8120, 4551, 128236, 52989, 21883, 1629, 15, 64101, 14, 2749, 40681, 52706, 7, 16, 11516, 34070, 4958, 146931, 8120, 4551, 128236, 52989, 21883, 1629, 15, 10433, 12333, 2], [0, 69535, 81049, 37368, 153264, 12095, 52989, 21883, 1629, 145615, 32, 2, 2, 52706, 2077, 2690, 25650, 7539, 8120, 4551, 128236, 52989, 21883, 1629, 15, 64101, 14, 2749, 40681, 52706, 7, 16, 11516, 34070, 4958, 146931, 8120, 4551, 128236, 52989, 21883, 1629, 15, 10433, 12333, 67, 40681, 52706, 7, 16, 9451, 34070, 4958, 180170, 8120, 4551, 128236, 52989, 21883, 1629, 15, 3827, 1803, 40681, 52706, 7, 16, 11516, 34070, 4958, 49936, 12095, 52989, 21883, 182394, 3686, 49936, 17289, 12095, 52989, 21883, 182394, 3686, 15453, 145578, 35235, 12095, 52989, 21883, 1629, 171093, 5944, 2650, 10239, 145615, 12, 181576, 87783, 35186, 13128, 9696, 184936, 28258, 11993, 12095, 52989, 21883, 1629, 51860, 4, 164359, 92912, 19404, 5414, 181576, 87783, 35186, 6345, 95789, 120159, 5, 22889, 6016, 2650, 6, 216901, 26873, 52989, 21883, 1629, 15, 7, 2263, 7263, 38715, 2844, 13, 16, 9451, 707, 21162, 4, 124335, 5966, 17318, 81782, 164359, 92912, 19404, 5414, 22889, 6016, 2650, 8285, 95789, 120159, 552, 10060, 53, 429, 289, 38715, 2844, 13, 6896, 47, 21162, 4, 124335, 5966, 17318, 81782, 164359, 92912, 19404, 5414, 25856, 128236, 52989, 148089, 95789, 120159, 7216, 9000, 2025, 70597, 52989, 21883, 4, 145578, 7216, 9000, 2025, 70597, 52989, 21883, 13128, 32352, 6149, 55897, 52989, 21883, 15, 1766, 6454, 247, 61995, 7065, 124335, 5966, 17318, 81782, 92912, 19404, 5414, 7216, 9000, 2025, 70597, 52989, 148089, 95789, 120159, 8838, 12152, 6343, 12, 4548, 10370, 4875, 81049, 37334, 144257, 16043, 82890, 8838, 12152, 6343, 12, 54716, 52989, 21883, 1629, 2, 1, 1, 1, 1, 1, 1, 1, 1, 1, 1, 1, 1]], 'attention_mask': [[1, 1, 1, 1, 1, 1, 1, 1, 1, 1, 1, 1, 1, 1, 1, 1, 1, 1, 1, 1, 1, 1, 1, 1, 1, 1, 1, 1, 1, 1, 1, 1, 1, 1, 1, 1, 1, 1, 1, 1, 1, 1, 1, 1, 1, 1, 1, 1, 1, 1, 1, 1, 1, 1, 1, 1, 1, 1, 1, 1, 1, 1, 1, 1, 1, 1, 1, 1, 1, 1, 1, 1, 1, 1, 1, 1, 1, 1, 1, 1, 1, 1, 1, 1, 1, 1, 1, 1, 1, 1, 1, 1, 1, 1, 1, 1, 1, 1, 1, 1, 1, 1, 1, 1, 1, 1, 1, 1, 1, 1, 1, 1, 1, 1, 1, 1, 1, 1, 1, 1, 1, 1, 1, 1, 1, 1, 1, 1, 1, 1, 1, 1, 1, 1, 1, 1, 1, 1, 1, 1, 1, 1, 1, 1, 1, 1, 1, 1, 1, 1, 1, 1, 1, 1, 1, 1, 1, 1, 1, 1, 1, 1, 1, 1, 1, 1, 1, 1, 1, 1, 1, 1, 1, 1, 1, 1, 1, 1, 1, 1, 1, 1, 1, 1, 1, 1, 1, 1, 1, 1, 1, 1, 1, 1, 1, 1, 1, 1, 1, 1, 1, 1, 1, 1, 1, 1, 1, 1, 1, 1, 1, 1, 1, 1, 1, 1, 1, 1, 1, 1, 1, 1, 1, 1, 1, 1, 1, 1, 1, 1, 1, 1, 1, 1, 1, 1, 1, 1, 1, 1, 1, 1, 1, 1, 1, 1, 1, 1, 1, 1, 1, 1, 1, 1, 1, 1], [1, 1, 1, 1, 1, 1, 1, 1, 1, 1, 1, 1, 1, 1, 1, 1, 1, 1, 1, 1, 1, 1, 1, 1, 1, 1, 1, 1, 1, 1, 1, 1, 1, 1, 1, 1, 1, 1, 1, 1, 1, 1, 1, 1, 1, 1, 1, 1, 1, 1, 1, 1, 1, 1, 1, 1, 1, 1, 1, 1, 1, 1, 1, 1, 1, 1, 1, 1, 1, 1, 1, 1, 1, 1, 1, 1, 1, 1, 1, 1, 1, 1, 1, 1, 1, 1, 1, 1, 1, 1, 1, 1, 1, 1, 1, 1, 1, 1, 1, 1, 1, 1, 1, 1, 1, 1, 1, 1, 1, 1, 1, 1, 1, 1, 1, 1, 1, 1, 1, 1, 1, 1, 1, 1, 1, 1, 1, 1, 1, 1, 1, 1, 1, 1, 1, 1, 1, 1, 1, 1, 1, 1, 1, 1, 1, 1, 1, 1, 1, 1, 1, 1, 1, 1, 1, 1, 1, 1, 1, 1, 1, 1, 1, 1, 1, 1, 1, 1, 1, 1, 1, 1, 1, 1, 1, 1, 1, 1, 1, 1, 1, 1, 1, 1, 1, 1, 1, 1, 1, 1, 1, 1, 1, 1, 1, 1, 1, 1, 1, 1, 1, 1, 1, 1, 1, 1, 1, 1, 1, 1, 1, 1, 1, 1, 1, 1, 1, 1, 1, 1, 1, 1, 1, 1, 1, 1, 1, 1, 1, 1, 1, 1, 1, 1, 1, 1, 1, 1, 1, 1, 1, 1, 1, 1, 1, 1, 1, 1, 1, 1, 1, 1, 1, 1, 1, 1], [1, 1, 1, 1, 1, 1, 1, 1, 1, 1, 1, 1, 1, 1, 1, 1, 1, 1, 1, 1, 1, 1, 1, 1, 1, 1, 1, 1, 1, 1, 1, 1, 1, 1, 1, 1, 1, 1, 1, 1, 1, 1, 1, 1, 1, 1, 1, 1, 1, 1, 1, 1, 1, 1, 1, 1, 1, 1, 1, 1, 1, 1, 1, 1, 1, 1, 1, 1, 1, 1, 1, 1, 1, 1, 1, 1, 1, 1, 1, 1, 1, 1, 1, 1, 1, 1, 1, 1, 1, 1, 1, 1, 1, 1, 1, 1, 1, 1, 1, 1, 1, 1, 1, 1, 1, 1, 1, 1, 1, 1, 1, 1, 1, 1, 1, 1, 1, 1, 1, 1, 1, 1, 1, 1, 1, 1, 1, 1, 1, 1, 1, 1, 1, 1, 1, 1, 1, 1, 1, 1, 1, 1, 1, 1, 1, 1, 1, 1, 1, 1, 1, 1, 1, 1, 1, 1, 1, 1, 1, 1, 1, 1, 1, 1, 1, 1, 1, 1, 1, 1, 1, 1, 1, 1, 1, 1, 1, 1, 1, 1, 1, 1, 1, 1, 1, 1, 1, 1, 1, 1, 1, 1, 1, 1, 1, 1, 1, 1, 1, 1, 1, 1, 1, 1, 1, 1, 1, 1, 1, 1, 1, 1, 1, 1, 1, 1, 1, 1, 1, 1, 1, 1, 1, 1, 1, 1, 1, 1, 1, 1, 1, 1, 1, 1, 1, 1, 1, 1, 1, 1, 1, 1, 1, 1, 1, 1, 1, 1, 1, 1, 1, 1, 1, 1, 1, 1], [1, 1, 1, 1, 1, 1, 1, 1, 1, 1, 1, 1, 1, 1, 1, 1, 1, 1, 1, 1, 1, 1, 1, 1, 1, 1, 1, 1, 1, 1, 1, 1, 1, 1, 1, 1, 1, 1, 1, 1, 1, 1, 1, 1, 1, 1, 1, 1, 1, 1, 1, 1, 1, 1, 1, 1, 1, 1, 1, 1, 1, 1, 1, 1, 1, 1, 1, 1, 1, 1, 1, 1, 1, 1, 1, 1, 1, 1, 1, 1, 1, 1, 1, 1, 1, 1, 1, 1, 1, 1, 1, 1, 1, 1, 1, 1, 1, 1, 1, 1, 1, 1, 1, 1, 1, 1, 1, 1, 1, 1, 1, 1, 1, 1, 1, 1, 1, 1, 1, 1, 1, 1, 1, 1, 1, 1, 1, 1, 1, 1, 1, 1, 1, 1, 1, 1, 1, 1, 1, 1, 1, 1, 1, 1, 1, 1, 1, 1, 1, 1, 1, 1, 1, 1, 1, 1, 1, 1, 1, 1, 1, 1, 1, 1, 1, 1, 1, 1, 1, 1, 1, 1, 1, 1, 1, 1, 1, 1, 1, 1, 1, 1, 1, 1, 1, 1, 1, 1, 1, 1, 1, 1, 1, 1, 1, 1, 1, 1, 1, 1, 1, 1, 1, 1, 1, 1, 1, 1, 1, 1, 1, 1, 1, 1, 1, 1, 1, 1, 1, 1, 1, 1, 1, 1, 1, 1, 1, 1, 1, 1, 1, 1, 1, 1, 1, 1, 1, 1, 1, 1, 1, 1, 1, 1, 1, 1, 1, 1, 1, 1, 1, 1, 1, 1, 1, 1], [1, 1, 1, 1, 1, 1, 1, 1, 1, 1, 1, 1, 1, 1, 1, 1, 1, 1, 1, 1, 1, 1, 1, 1, 1, 1, 1, 1, 1, 1, 1, 1, 1, 1, 1, 1, 1, 1, 1, 1, 1, 1, 1, 1, 1, 1, 1, 1, 1, 1, 1, 1, 1, 1, 1, 1, 1, 1, 1, 1, 1, 1, 1, 1, 1, 1, 1, 1, 1, 1, 1, 1, 1, 1, 1, 1, 1, 1, 1, 1, 1, 1, 1, 1, 1, 1, 1, 1, 1, 1, 1, 1, 1, 1, 1, 1, 1, 1, 1, 1, 1, 1, 1, 1, 1, 1, 1, 1, 1, 1, 1, 1, 1, 1, 1, 1, 1, 1, 1, 1, 1, 1, 1, 1, 1, 1, 1, 1, 1, 1, 1, 1, 1, 1, 1, 1, 1, 1, 1, 1, 1, 1, 1, 1, 1, 1, 1, 1, 1, 1, 1, 1, 1, 1, 1, 1, 1, 1, 1, 1, 1, 1, 1, 1, 1, 1, 1, 1, 1, 1, 1, 1, 1, 1, 1, 1, 1, 1, 1, 1, 1, 1, 1, 1, 1, 1, 1, 1, 1, 1, 1, 1, 1, 1, 1, 1, 1, 1, 1, 1, 1, 1, 1, 1, 1, 1, 1, 1, 1, 1, 1, 1, 1, 1, 1, 1, 1, 1, 1, 1, 1, 1, 1, 1, 1, 1, 1, 1, 1, 1, 1, 1, 1, 1, 1, 1, 1, 1, 1, 1, 1, 1, 1, 1, 1, 1, 1, 1, 1, 1, 1, 1, 1, 1, 1, 1], [1, 1, 1, 1, 1, 1, 1, 1, 1, 1, 1, 1, 1, 1, 1, 1, 1, 1, 1, 1, 1, 1, 1, 1, 1, 1, 1, 1, 1, 1, 1, 1, 1, 1, 1, 1, 1, 1, 1, 1, 1, 1, 1, 1, 1, 1, 1, 1, 1, 1, 1, 1, 1, 1, 1, 1, 1, 1, 1, 1, 1, 1, 1, 1, 1, 1, 1, 1, 1, 1, 1, 1, 1, 1, 1, 1, 1, 1, 1, 1, 1, 1, 1, 1, 1, 1, 1, 1, 1, 1, 1, 1, 1, 1, 1, 1, 1, 1, 1, 1, 1, 1, 1, 1, 1, 1, 1, 1, 1, 1, 1, 1, 1, 1, 1, 1, 1, 1, 1, 1, 1, 1, 1, 1, 1, 1, 1, 1, 1, 1, 1, 1, 1, 1, 1, 1, 1, 1, 1, 1, 1, 1, 1, 1, 1, 1, 1, 1, 1, 1, 1, 1, 1, 1, 1, 1, 1, 1, 1, 1, 1, 1, 1, 1, 1, 1, 1, 1, 1, 1, 1, 1, 1, 1, 1, 1, 1, 1, 1, 1, 1, 1, 1, 1, 1, 1, 1, 1, 1, 1, 1, 1, 1, 1, 1, 1, 1, 1, 1, 1, 1, 1, 1, 1, 1, 1, 1, 1, 1, 1, 1, 1, 1, 1, 1, 1, 1, 1, 1, 1, 1, 1, 1, 1, 1, 1, 1, 1, 1, 1, 1, 1, 1, 1, 1, 1, 1, 1, 1, 1, 1, 1, 1, 1, 1, 1, 1, 1, 1, 1, 1, 1, 1, 1, 1, 1], [1, 1, 1, 1, 1, 1, 1, 1, 1, 1, 1, 1, 1, 1, 1, 1, 1, 1, 1, 1, 1, 1, 1, 1, 1, 1, 1, 1, 1, 1, 1, 1, 1, 1, 1, 1, 1, 1, 1, 1, 1, 1, 1, 1, 1, 1, 1, 1, 1, 1, 1, 1, 1, 1, 1, 1, 1, 1, 1, 1, 1, 1, 1, 1, 1, 1, 1, 1, 1, 1, 1, 1, 1, 1, 1, 1, 1, 1, 1, 1, 1, 1, 1, 1, 1, 1, 1, 1, 1, 1, 1, 1, 1, 1, 1, 1, 1, 1, 1, 1, 1, 1, 1, 1, 1, 1, 1, 1, 1, 1, 1, 1, 1, 1, 1, 1, 1, 1, 1, 1, 1, 1, 1, 1, 1, 1, 1, 1, 1, 1, 1, 1, 1, 1, 1, 1, 1, 1, 1, 1, 1, 1, 1, 1, 1, 1, 1, 1, 1, 1, 1, 1, 1, 1, 1, 1, 1, 1, 1, 1, 1, 1, 1, 1, 1, 1, 1, 1, 1, 1, 1, 1, 1, 1, 1, 1, 1, 1, 1, 1, 1, 1, 1, 1, 1, 1, 1, 1, 1, 1, 1, 1, 1, 1, 1, 1, 1, 1, 1, 1, 1, 1, 1, 1, 1, 1, 1, 1, 1, 1, 1, 1, 1, 1, 1, 1, 1, 1, 1, 1, 1, 1, 1, 1, 1, 1, 1, 1, 1, 1, 1, 1, 1, 1, 1, 1, 1, 1, 1, 1, 1, 1, 1, 1, 0, 0, 0, 0, 0, 0, 0, 0, 0, 0, 0, 0]], 'start_positions': [27, 0, 0, 0, 0, 0, 0], 'end_positions': [27, 0, 0, 0, 0, 0, 0]}"
      ]
     },
     "execution_count": 198,
     "metadata": {},
     "output_type": "execute_result"
    }
   ],
   "source": [
    "tokenized_example = prepare_train_features(datasets['train'][:1])\n",
    "tokenized_example"
   ]
  },
  {
   "cell_type": "code",
   "execution_count": 199,
   "metadata": {},
   "outputs": [
    {
     "data": {
      "application/vnd.jupyter.widget-view+json": {
       "model_id": "7152e649b89c48a5955309da16c6e1ad",
       "version_major": 2,
       "version_minor": 0
      },
      "text/plain": [
       "HBox(children=(HTML(value=''), FloatProgress(value=0.0, max=2.0), HTML(value='')))"
      ]
     },
     "metadata": {},
     "output_type": "display_data"
    },
    {
     "name": "stdout",
     "output_type": "stream",
     "text": [
      "\n"
     ]
    },
    {
     "data": {
      "application/vnd.jupyter.widget-view+json": {
       "model_id": "aa0833cd39b04efcb0de75f710502c15",
       "version_major": 2,
       "version_minor": 0
      },
      "text/plain": [
       "HBox(children=(HTML(value=''), FloatProgress(value=0.0, max=2.0), HTML(value='')))"
      ]
     },
     "metadata": {},
     "output_type": "display_data"
    },
    {
     "name": "stdout",
     "output_type": "stream",
     "text": [
      "\n"
     ]
    }
   ],
   "source": [
    "tokenized_datasets = datasets.map(prepare_train_features, batched=True, remove_columns=datasets[\"train\"].column_names)"
   ]
  },
  {
   "cell_type": "code",
   "execution_count": 200,
   "metadata": {},
   "outputs": [
    {
     "name": "stderr",
     "output_type": "stream",
     "text": [
      "loading configuration file ./xlm-roberta/config.json\n",
      "Model config XLMRobertaConfig {\n",
      "  \"architectures\": [\n",
      "    \"XLMRobertaForMaskedLM\"\n",
      "  ],\n",
      "  \"attention_probs_dropout_prob\": 0.1,\n",
      "  \"bos_token_id\": 0,\n",
      "  \"eos_token_id\": 2,\n",
      "  \"gradient_checkpointing\": false,\n",
      "  \"hidden_act\": \"gelu\",\n",
      "  \"hidden_dropout_prob\": 0.1,\n",
      "  \"hidden_size\": 768,\n",
      "  \"initializer_range\": 0.02,\n",
      "  \"intermediate_size\": 3072,\n",
      "  \"layer_norm_eps\": 1e-05,\n",
      "  \"max_position_embeddings\": 514,\n",
      "  \"model_type\": \"xlm-roberta\",\n",
      "  \"num_attention_heads\": 12,\n",
      "  \"num_hidden_layers\": 12,\n",
      "  \"output_past\": true,\n",
      "  \"pad_token_id\": 1,\n",
      "  \"position_embedding_type\": \"absolute\",\n",
      "  \"transformers_version\": \"4.9.2\",\n",
      "  \"type_vocab_size\": 1,\n",
      "  \"use_cache\": true,\n",
      "  \"vocab_size\": 250002\n",
      "}\n",
      "\n",
      "loading weights file ./xlm-roberta/pytorch_model.bin\n",
      "Some weights of the model checkpoint at ./xlm-roberta were not used when initializing XLMRobertaForQuestionAnswering: ['lm_head.layer_norm.bias', 'lm_head.layer_norm.weight', 'lm_head.decoder.weight', 'lm_head.dense.weight', 'lm_head.dense.bias', 'lm_head.bias']\n",
      "- This IS expected if you are initializing XLMRobertaForQuestionAnswering from the checkpoint of a model trained on another task or with another architecture (e.g. initializing a BertForSequenceClassification model from a BertForPreTraining model).\n",
      "- This IS NOT expected if you are initializing XLMRobertaForQuestionAnswering from the checkpoint of a model that you expect to be exactly identical (initializing a BertForSequenceClassification model from a BertForSequenceClassification model).\n",
      "Some weights of XLMRobertaForQuestionAnswering were not initialized from the model checkpoint at ./xlm-roberta and are newly initialized: ['qa_outputs.weight', 'qa_outputs.bias']\n",
      "You should probably TRAIN this model on a down-stream task to be able to use it for predictions and inference.\n"
     ]
    }
   ],
   "source": [
    "from transformers import AutoModelForQuestionAnswering, TrainingArguments, Trainer\n",
    "\n",
    "model = AutoModelForQuestionAnswering.from_pretrained(model_checkpoint)"
   ]
  },
  {
   "cell_type": "code",
   "execution_count": 201,
   "metadata": {},
   "outputs": [
    {
     "name": "stderr",
     "output_type": "stream",
     "text": [
      "PyTorch: setting up devices\n",
      "The default value for the training argument `--report_to` will change in v5 (from all installed integrations to none). In v5, you will need to use `--report_to all` to get the same behavior as now. You should start updating your code and make this info disappear :-).\n",
      "Using the `WAND_DISABLED` environment variable is deprecated and will be removed in v5. Use the --report_to flag to control the integrations used for logging result (for instance --report_to none).\n"
     ]
    }
   ],
   "source": [
    "import os\n",
    "os.environ[\"WANDB_DISABLED\"] = \"true\"\n",
    "model_name = model_checkpoint.split(\"/\")[-1]\n",
    "args = TrainingArguments(\n",
    "    f\"xlm-roberta-finetune\",\n",
    "    evaluation_strategy = \"epoch\",\n",
    "    learning_rate=2e-5,\n",
    "    per_device_train_batch_size=batch_size,\n",
    "    per_device_eval_batch_size=batch_size,\n",
    "    num_train_epochs=5,\n",
    "    weight_decay=0.01,\n",
    "    save_steps=10000,\n",
    "    push_to_hub=False,\n",
    "    #push_to_hub_model_id=f\"{model_name}-finetuned-squad\",\n",
    ")"
   ]
  },
  {
   "cell_type": "code",
   "execution_count": 202,
   "metadata": {},
   "outputs": [],
   "source": [
    "\n",
    "from transformers import default_data_collator\n",
    "\n",
    "data_collator = default_data_collator"
   ]
  },
  {
   "cell_type": "code",
   "execution_count": 203,
   "metadata": {},
   "outputs": [],
   "source": [
    "trainer = Trainer(\n",
    "    model,\n",
    "    args,\n",
    "    train_dataset=tokenized_datasets[\"train\"],\n",
    "    eval_dataset=tokenized_datasets[\"validation\"],\n",
    "    data_collator=data_collator,\n",
    "    tokenizer=tokenizer,\n",
    "    #model_init='./india-qa-xlm-roberta/',\n",
    "    #use_auth_token=True\n",
    ")"
   ]
  },
  {
   "cell_type": "code",
   "execution_count": 204,
   "metadata": {},
   "outputs": [
    {
     "name": "stderr",
     "output_type": "stream",
     "text": [
      "***** Running training *****\n",
      "  Num examples = 17424\n",
      "  Num Epochs = 5\n",
      "  Instantaneous batch size per device = 4\n",
      "  Total train batch size (w. parallel, distributed & accumulation) = 4\n",
      "  Gradient Accumulation steps = 1\n",
      "  Total optimization steps = 21780\n"
     ]
    },
    {
     "data": {
      "text/html": [
       "\n",
       "    <div>\n",
       "      \n",
       "      <progress value='21780' max='21780' style='width:300px; height:20px; vertical-align: middle;'></progress>\n",
       "      [21780/21780 1:18:47, Epoch 5/5]\n",
       "    </div>\n",
       "    <table border=\"1\" class=\"dataframe\">\n",
       "  <thead>\n",
       "    <tr style=\"text-align: left;\">\n",
       "      <th>Epoch</th>\n",
       "      <th>Training Loss</th>\n",
       "      <th>Validation Loss</th>\n",
       "    </tr>\n",
       "  </thead>\n",
       "  <tbody>\n",
       "    <tr>\n",
       "      <td>1</td>\n",
       "      <td>0.472400</td>\n",
       "      <td>0.292774</td>\n",
       "    </tr>\n",
       "    <tr>\n",
       "      <td>2</td>\n",
       "      <td>0.466400</td>\n",
       "      <td>0.156152</td>\n",
       "    </tr>\n",
       "    <tr>\n",
       "      <td>3</td>\n",
       "      <td>0.248400</td>\n",
       "      <td>0.103739</td>\n",
       "    </tr>\n",
       "    <tr>\n",
       "      <td>4</td>\n",
       "      <td>0.143100</td>\n",
       "      <td>0.060221</td>\n",
       "    </tr>\n",
       "    <tr>\n",
       "      <td>5</td>\n",
       "      <td>0.059300</td>\n",
       "      <td>0.037970</td>\n",
       "    </tr>\n",
       "  </tbody>\n",
       "</table><p>"
      ],
      "text/plain": [
       "<IPython.core.display.HTML object>"
      ]
     },
     "metadata": {},
     "output_type": "display_data"
    },
    {
     "name": "stderr",
     "output_type": "stream",
     "text": [
      "***** Running Evaluation *****\n",
      "  Num examples = 17424\n",
      "  Batch size = 4\n",
      "***** Running Evaluation *****\n",
      "  Num examples = 17424\n",
      "  Batch size = 4\n",
      "Saving model checkpoint to xlm-roberta-finetune/checkpoint-10000\n",
      "Configuration saved in xlm-roberta-finetune/checkpoint-10000/config.json\n",
      "Model weights saved in xlm-roberta-finetune/checkpoint-10000/pytorch_model.bin\n",
      "tokenizer config file saved in xlm-roberta-finetune/checkpoint-10000/tokenizer_config.json\n",
      "Special tokens file saved in xlm-roberta-finetune/checkpoint-10000/special_tokens_map.json\n",
      "***** Running Evaluation *****\n",
      "  Num examples = 17424\n",
      "  Batch size = 4\n",
      "***** Running Evaluation *****\n",
      "  Num examples = 17424\n",
      "  Batch size = 4\n",
      "Saving model checkpoint to xlm-roberta-finetune/checkpoint-20000\n",
      "Configuration saved in xlm-roberta-finetune/checkpoint-20000/config.json\n",
      "Model weights saved in xlm-roberta-finetune/checkpoint-20000/pytorch_model.bin\n",
      "tokenizer config file saved in xlm-roberta-finetune/checkpoint-20000/tokenizer_config.json\n",
      "Special tokens file saved in xlm-roberta-finetune/checkpoint-20000/special_tokens_map.json\n",
      "***** Running Evaluation *****\n",
      "  Num examples = 17424\n",
      "  Batch size = 4\n",
      "\n",
      "\n",
      "Training completed. Do not forget to share your model on huggingface.co/models =)\n",
      "\n",
      "\n"
     ]
    },
    {
     "data": {
      "text/plain": [
       "TrainOutput(global_step=21780, training_loss=0.2721441182223233, metrics={'train_runtime': 4727.4308, 'train_samples_per_second': 18.429, 'train_steps_per_second': 4.607, 'total_flos': 1.138208672342016e+16, 'train_loss': 0.2721441182223233, 'epoch': 5.0})"
      ]
     },
     "execution_count": 204,
     "metadata": {},
     "output_type": "execute_result"
    }
   ],
   "source": [
    "trainer.train()"
   ]
  },
  {
   "cell_type": "code",
   "execution_count": 205,
   "metadata": {},
   "outputs": [
    {
     "name": "stderr",
     "output_type": "stream",
     "text": [
      "Saving model checkpoint to india-qa-xlm-roberta\n",
      "Configuration saved in india-qa-xlm-roberta/config.json\n",
      "Model weights saved in india-qa-xlm-roberta/pytorch_model.bin\n",
      "tokenizer config file saved in india-qa-xlm-roberta/tokenizer_config.json\n",
      "Special tokens file saved in india-qa-xlm-roberta/special_tokens_map.json\n"
     ]
    }
   ],
   "source": [
    "trainer.save_model(\"india-qa-xlm-roberta\")"
   ]
  },
  {
   "cell_type": "code",
   "execution_count": 209,
   "metadata": {},
   "outputs": [
    {
     "data": {
      "text/plain": [
       "odict_keys(['loss', 'start_logits', 'end_logits'])"
      ]
     },
     "execution_count": 209,
     "metadata": {},
     "output_type": "execute_result"
    }
   ],
   "source": [
    "import torch\n",
    "\n",
    "i=0\n",
    "for batch in trainer.get_eval_dataloader():\n",
    "    i+=1\n",
    "    if i>20:\n",
    "        break\n",
    "batch = {k: v.to(trainer.args.device) for k, v in batch.items()}\n",
    "with torch.no_grad():\n",
    "    output = trainer.model(**batch)\n",
    "output.keys()"
   ]
  },
  {
   "cell_type": "code",
   "execution_count": 210,
   "metadata": {},
   "outputs": [
    {
     "data": {
      "text/plain": [
       "tensor(1.0937e-05, device='cuda:0')"
      ]
     },
     "execution_count": 210,
     "metadata": {},
     "output_type": "execute_result"
    }
   ],
   "source": [
    "output.loss"
   ]
  },
  {
   "cell_type": "code",
   "execution_count": 212,
   "metadata": {},
   "outputs": [],
   "source": [
    "n_best_size = 20"
   ]
  },
  {
   "cell_type": "code",
   "execution_count": 213,
   "metadata": {},
   "outputs": [],
   "source": [
    "max_answer_length = 10"
   ]
  },
  {
   "cell_type": "code",
   "execution_count": 1,
   "metadata": {},
   "outputs": [
    {
     "ename": "NameError",
     "evalue": "name 'load_dataset' is not defined",
     "output_type": "error",
     "traceback": [
      "\u001b[0;31m---------------------------------------------------------------------------\u001b[0m",
      "\u001b[0;31mNameError\u001b[0m                                 Traceback (most recent call last)",
      "\u001b[0;32m<ipython-input-1-a32e75e89763>\u001b[0m in \u001b[0;36m<module>\u001b[0;34m\u001b[0m\n\u001b[1;32m      1\u001b[0m \u001b[0;32mimport\u001b[0m \u001b[0mcollections\u001b[0m\u001b[0;34m\u001b[0m\u001b[0;34m\u001b[0m\u001b[0m\n\u001b[0;32m----> 2\u001b[0;31m test_datasets = load_dataset('csv', data_files={\n\u001b[0m\u001b[1;32m      3\u001b[0m                                           'test':'./data/test.csv'})\n\u001b[1;32m      4\u001b[0m test_features = test_datasets[\"test\"].map(\n\u001b[1;32m      5\u001b[0m     \u001b[0mprepare_validation_features\u001b[0m\u001b[0;34m,\u001b[0m\u001b[0;34m\u001b[0m\u001b[0;34m\u001b[0m\u001b[0m\n",
      "\u001b[0;31mNameError\u001b[0m: name 'load_dataset' is not defined"
     ]
    }
   ],
   "source": [
    "import collections\n",
    "test_datasets = load_dataset('csv', data_files={\n",
    "                                          'test':'./data/test.csv'})\n",
    "test_features = test_datasets[\"test\"].map(\n",
    "    prepare_validation_features,\n",
    "    batched=True,\n",
    "    remove_columns=test_datasets[\"test\"].column_names\n",
    ")\n",
    "raw_predictions = trainer.predict(test_features)\n",
    "test_features.set_format(type=test_features.format[\"type\"], columns=list(test_features.features.keys()))\n",
    "\n",
    "examples = test_datasets[\"test\"]\n",
    "features = test_features\n",
    "\n",
    "example_id_to_index = {k: i for i, k in enumerate(examples[\"id\"])}\n",
    "features_per_example = collections.defaultdict(list)\n",
    "for i, feature in enumerate(features):\n",
    "    features_per_example[example_id_to_index[feature[\"example_id\"]]].append(i)"
   ]
  },
  {
   "cell_type": "code",
   "execution_count": 215,
   "metadata": {},
   "outputs": [],
   "source": [
    "from tqdm.auto import tqdm\n",
    "\n",
    "def postprocess_qa_predictions(examples, features, raw_predictions, n_best_size = 20, max_answer_length = 30):\n",
    "    all_start_logits, all_end_logits = raw_predictions\n",
    "    # Build a map example to its corresponding features.\n",
    "    example_id_to_index = {k: i for i, k in enumerate(examples[\"id\"])}\n",
    "    features_per_example = collections.defaultdict(list)\n",
    "    for i, feature in enumerate(features):\n",
    "        features_per_example[example_id_to_index[feature[\"example_id\"]]].append(i)\n",
    "\n",
    "    # The dictionaries we have to fill.\n",
    "    predictions = collections.OrderedDict()\n",
    "\n",
    "    # Logging.\n",
    "    print(f\"Post-processing {len(examples)} example predictions split into {len(features)} features.\")\n",
    "\n",
    "    # Let's loop over all the examples!\n",
    "    for example_index, example in enumerate(tqdm(examples)):\n",
    "        # Those are the indices of the features associated to the current example.\n",
    "        feature_indices = features_per_example[example_index]\n",
    "\n",
    "        min_null_score = None # Only used if squad_v2 is True.\n",
    "        valid_answers = []\n",
    "        \n",
    "        context = example[\"context\"]\n",
    "        # Looping through all the features associated to the current example.\n",
    "        for feature_index in feature_indices:\n",
    "            # We grab the predictions of the model for this feature.\n",
    "            start_logits = all_start_logits[feature_index]\n",
    "            end_logits = all_end_logits[feature_index]\n",
    "            # This is what will allow us to map some the positions in our logits to span of texts in the original\n",
    "            # context.\n",
    "            offset_mapping = features[feature_index][\"offset_mapping\"]\n",
    "\n",
    "            # Update minimum null prediction.\n",
    "            cls_index = features[feature_index][\"input_ids\"].index(tokenizer.cls_token_id)\n",
    "            feature_null_score = start_logits[cls_index] + end_logits[cls_index]\n",
    "            if min_null_score is None or min_null_score < feature_null_score:\n",
    "                min_null_score = feature_null_score\n",
    "\n",
    "            # Go through all possibilities for the `n_best_size` greater start and end logits.\n",
    "            start_indexes = np.argsort(start_logits)[-1 : -n_best_size - 1 : -1].tolist()\n",
    "            end_indexes = np.argsort(end_logits)[-1 : -n_best_size - 1 : -1].tolist()\n",
    "            for start_index in start_indexes:\n",
    "                for end_index in end_indexes:\n",
    "                    # Don't consider out-of-scope answers, either because the indices are out of bounds or correspond\n",
    "                    # to part of the input_ids that are not in the context.\n",
    "                    if (\n",
    "                        start_index >= len(offset_mapping)\n",
    "                        or end_index >= len(offset_mapping)\n",
    "                        or offset_mapping[start_index] is None\n",
    "                        or offset_mapping[end_index] is None\n",
    "                    ):\n",
    "                        continue\n",
    "                    # Don't consider answers with a length that is either < 0 or > max_answer_length.\n",
    "                    if end_index < start_index or end_index - start_index + 1 > max_answer_length:\n",
    "                        continue\n",
    "\n",
    "                    start_char = offset_mapping[start_index][0]\n",
    "                    end_char = offset_mapping[end_index][1]\n",
    "                    valid_answers.append(\n",
    "                        {\n",
    "                            \"score\": start_logits[start_index] + end_logits[end_index],\n",
    "                            \"text\": context[start_char: end_char]\n",
    "                        }\n",
    "                    )\n",
    "        \n",
    "        if len(valid_answers) > 0:\n",
    "            best_answer = sorted(valid_answers, key=lambda x: x[\"score\"], reverse=True)[0]\n",
    "        else:\n",
    "            # In the very rare edge case we have not a single non-null prediction, we create a fake prediction to avoid\n",
    "            # failure.\n",
    "            best_answer = {\"text\": \"\", \"score\": 0.0}\n",
    "        \n",
    "        # Let's pick our final answer: the best one or the null answer (only for squad_v2)\n",
    "        if not squad_v2:\n",
    "            predictions[example[\"id\"]] = best_answer[\"text\"]\n",
    "        else:\n",
    "            answer = best_answer[\"text\"] if best_answer[\"score\"] > min_null_score else \"\"\n",
    "            predictions[example[\"id\"]] = answer\n",
    "\n",
    "    return predictions\n",
    "            "
   ]
  },
  {
   "cell_type": "code",
   "execution_count": 232,
   "metadata": {},
   "outputs": [
    {
     "name": "stdout",
     "output_type": "stream",
     "text": [
      "Post-processing 5 example predictions split into 79 features.\n"
     ]
    },
    {
     "data": {
      "application/vnd.jupyter.widget-view+json": {
       "model_id": "9648df891f2a44aaa4cd7a7592cd88f5",
       "version_major": 2,
       "version_minor": 0
      },
      "text/plain": [
       "HBox(children=(HTML(value=''), FloatProgress(value=0.0, max=5.0), HTML(value='')))"
      ]
     },
     "metadata": {},
     "output_type": "display_data"
    },
    {
     "name": "stdout",
     "output_type": "stream",
     "text": [
      "\n"
     ]
    }
   ],
   "source": [
    "\n",
    "final_predictions = postprocess_qa_predictions(test_datasets[\"test\"], test_features, raw_predictions.predictions,n_best_size = 30, max_answer_length = 20)"
   ]
  },
  {
   "cell_type": "code",
   "execution_count": 233,
   "metadata": {},
   "outputs": [],
   "source": [
    "if squad_v2:\n",
    "    formatted_predictions = [{\"id\": k, \"prediction_text\": v, \"no_answer_probability\": 0.0} for k, v in final_predictions.items()]\n",
    "else:\n",
    "    formatted_predictions = [{\"id\": k, \"prediction_text\": v} for k, v in final_predictions.items()]\n",
    "references = [{\"id\": ex[\"id\"], \"answers\": ex[\"answer_text\"]} for ex in datasets[\"validation\"]]\n",
    "#metric.compute(predictions=formatted_predictions, references=references)"
   ]
  },
  {
   "cell_type": "code",
   "execution_count": 234,
   "metadata": {},
   "outputs": [
    {
     "data": {
      "text/plain": [
       "[{'id': '22bff3dec', 'prediction_text': 'एम. क्रांति तेलुगु और मां येलन'},\n",
       " {'id': '282758170', 'prediction_text': '9 फ़रवरी 2007'},\n",
       " {'id': 'd60987e0e', 'prediction_text': '१७ अक्टूबर १८८७'},\n",
       " {'id': 'f99c770dc', 'prediction_text': '13'},\n",
       " {'id': '40dec1964', 'prediction_text': '1844'}]"
      ]
     },
     "execution_count": 234,
     "metadata": {},
     "output_type": "execute_result"
    }
   ],
   "source": [
    "formatted_predictions"
   ]
  },
  {
   "cell_type": "code",
   "execution_count": 235,
   "metadata": {},
   "outputs": [
    {
     "name": "stdout",
     "output_type": "stream",
     "text": [
      "22bff3dec ज्वाला गुट्टा की माँ का नाम क्या है एम. क्रांति तेलुगु और मां येलन\n",
      "282758170 गूगल मैप्स कब लॉन्च किया गया था? 9 फ़रवरी 2007\n",
      "d60987e0e गुस्ताव किरचॉफ का जन्म कब हुआ था? १७ अक्टूबर १८८७\n",
      "f99c770dc அலுமினியத்தின் அணு எண் என்ன? 13\n",
      "40dec1964 இந்தியாவில் பசுமை புரட்சியின் தந்தை என்று கருதப்படுபவர் யார்? 1844\n"
     ]
    }
   ],
   "source": [
    "wf=open('./data/answer.csv','w',encoding='utf-8')\n",
    "wf.write(\",\".join(['id','PredictionString'])+\"\\n\")\n",
    "for i  in range(len(formatted_predictions)):\n",
    "    if formatted_predictions[i]['id']==test_datasets['test']['id'][i]:\n",
    "        print (test_datasets['test']['id'][i], test_datasets['test']['question'][i],formatted_predictions[i]['prediction_text'] )\n",
    "        wf.write(\",\".join([str(test_datasets['test']['id'][i]),str(formatted_predictions[i]['prediction_text'].strip())])+'\\n')\n",
    "wf.close()"
   ]
  },
  {
   "cell_type": "code",
   "execution_count": 236,
   "metadata": {},
   "outputs": [
    {
     "data": {
      "text/plain": [
       "{'id': '40dec1964',\n",
       " 'context': 'கூட்டுறவு இயக்க வரலாறு, இங்கிலாந்து  நாட்டில் முதன் முதலாக கூட்டுறவு இயக்கமானது, ரோச்டேல் பயனீர் என்பவரால் சிந்திக்கப்பட்டு, 1844ஆம் ஆண்டில் அவரது நண்பர்கள் மற்றும் நெருங்கியவர்கள் கொண்ட கூட்டம் கூட்டப்பட்டு, அந்த  கூட்டத்தில் தாமே, தங்களுக்குள், தங்கள் தேவைக்காக தங்கள் மூலம் என்ற கொள்கைகளுடன் ரோச்டேல் சமத்துவ முன்னோடிகள் கூட்டுறவு பண்டகசாலைகளை துவக்கினர்.  அக்கூட்டுறவு சங்கத்திற்கான நடைமுறை விதிகள் ஏற்படுத்திக் கொண்டனர். இக்கூட்டுறவு சங்கமே,  பிற நாடுகளில் கூட்டுறவு சங்கங்கள் துவக்க முன்னோடியாக விளங்கியது.[1]\\nஜெர்மனியில் 1852ஆம் ஆண்டில் பிரான்ச் ஹெர்மன் சூல்ஸ் (Franz Hermann Schulze) என்பவரது முயற்சியால், நகர் புறங்களில் சிக்கன நாணயக் கூட்டுறவு கடன் சங்கங்கள் துவக்கப்பட்டது. 1864ஆம் ஆண்டில் ரெய்பிசன் (Raiffeisen) என்பவரது முயற்சியால் கிராமப்புறங்களில் கூட்டுறவு கடன் சங்கங்கள் துவக்கப்பட்டது. ரெய்பிசனின் வெற்றியைத் தொடர்ந்து,  இங்கிலாந்தில் கூட்டுறவு வீட்டு வசதி சங்கங்கள் மற்றும் பரஸ்பர சேமிப்பு கூட்டுறவு வங்கிகள் துவக்கப்பட்டது. பிரான்சில் அச்சுத் தொழில் கூட்டுறவு சங்கங்களும், இஸ்ரேலில் கூட்டுறவு இயக்கம் கில்ப்லர்ட்ஸ், மோஸ்ஹவ், மோசர்ஷிட்டாப் போன்றவர்களால் முன்னடத்தப்பட்டது. இராபர்ட் ஓவன் மற்றும் வில்லியம் கிங்  ஆகியவர்களின் முயற்சியால், ஐக்கிய அமெரிக்காவில் கூட்டுறவு இயக்கம் பரவத் தொடங்கியது.\\nஇந்தியாவில் கூட்டுறவு இயக்கம்\\nபிரித்தானிய இந்தியாவில்   ஆங்கிலேயேர்கள்  கூட்டுறவு இயக்கத்தை அறிமுகப்படுத்த, 1904ஆம் ஆண்டில் கூட்டுறவு கடன் சங்கங்கள் சட்டத்தை இயற்றியது. பின் கூட்டுறவு இயக்கத்தை நாடு முழுவதும் பரப்ப கூட்டுறவு சங்கங்களின் சட்டம்,1912 கொண்டு வந்தனர்.[2]\\nஇந்திய விடுதலைக்குப் பின்னர் கூட்டுறவு இயக்கம் வளர்ந்த நிலையில்,  சுவாமிநாதன் மற்றும் வர்கீஸ் குரியன் ஆகியவர்களின் முயற்சியால் நாட்டில் பசுமைப் புரட்சி மற்றும் வெண்மைப் புரட்சி ஏற்பட்டது.[3]\\nகூட்டுறவு அமைப்புகளின் கிளைகள் ஒன்றுக்கும் மேற்பட்ட மாநிலங்களில் நிறுவப்பட்டதால், இந்திய  அரசு பன்மாநில கூட்டுறவு சங்கங்கள் சட்டம், 2002 இயற்றியது. [4]\\nதமிழ்நாட்டில் கூட்டுறவு இயக்கம்\\nபிரித்தானிய இந்தியாவின்,  சென்னை மாகாணத்தில் கூட்டுறவு இயக்கத்தை பரப்ப 1932ஆம் ஆண்டில் சென்னை மாகாண கூட்டுறவுச் சங்கங்கள் சட்டம், 1932 மற்றும் 1934ஆம் ஆண்டில் சென்னை மாகாண கூட்டுறவு நிலவள கூட்டுறவுச் சங்ககள் சட்டம், 1934 கொண்டு வந்தனர். இந்திய விடுதலைக்கு பின்னர், கூட்டுறவு சட்டங்கள் திருத்தப்பட்டு, 1961ஆம் ஆண்டில் திருந்திய கூட்டுறவு சங்கங்கள் சட்டம், 1961 மற்றும் விதிகள் அமல் படுத்தப்பட்டது. [5] ஒரே கூட்டுறவு சங்கங்களின் பதிவாளர் தலைமையில் இருந்த அனைத்து கூட்டுறவு சங்கங்கள், கூட்டுறவு சிக்கன நாணய கடன் சங்கங்கள், வேளான்மை சங்கங்கள், நகர வங்கிகள், நிலவள வங்கிகள் தவிர, பிற வகையான கூட்டுறவு சங்கங்கள், அவ்வமைப்பின் நிர்வாக அதிகாரிகளின் தலைமையில், கூட்டுறவுச் சங்க பதிவாளரின் அதிகாரங்களுடன் செயல்படுகிறது. கூட்டுறவு சங்கங்களின் தரத்தை மேலும் வளுப்படுத்த, 1983ஆம் ஆண்டில் தமிழ்நாடு கூட்டுறவுச் சங்கங்கள் சட்டம், 1983 மற்றும் தமிழ்நாடு கூட்டுறவுச் சங்கங்களின் விதிகள், 1988 தமிழ்நாடு அரசு கொண்டு வந்தது. [6]\\nமேற்கோள்கள்\\n\\nவெளி இணைப்புகள்\\n\\n\\n [\\n\\n\\n\\n\\n\\nமேலும் படிக்க\\nBirchall, Johnston (1997), The International Co-operative Movement.\\nFor All The People: Uncovering the Hidden History of Cooperation, Cooperative Movements, and Communalism in America, PM Press, by John Curl, 2009\\n Derr, Jascha (2013), \\nGreider, William (2003), The Soul of Capitalism.\\nKelly, Marjorie (2012), Owning Our Future: The Emerging Ownership Revolution.\\nNadeau, E.G. &amp; D.J. Thompson (1996), Cooperation Works!\\nWhyte, W.F. &amp; K.K. Whyte (1988), Making Mondragon.\\nபகுப்பு:கூட்டுறவு',\n",
       " 'question': 'இந்தியாவில் பசுமை புரட்சியின் தந்தை என்று கருதப்படுபவர் யார்?',\n",
       " 'language': 'tamil',\n",
       " 'answer_text': None,\n",
       " 'answer_start': None}"
      ]
     },
     "execution_count": 236,
     "metadata": {},
     "output_type": "execute_result"
    }
   ],
   "source": [
    "test_datasets['test'][-1]"
   ]
  },
  {
   "cell_type": "code",
   "execution_count": null,
   "metadata": {},
   "outputs": [],
   "source": []
  }
 ],
 "metadata": {
  "kernelspec": {
   "display_name": "Python 3",
   "language": "python",
   "name": "python3"
  },
  "language_info": {
   "codemirror_mode": {
    "name": "ipython",
    "version": 3
   },
   "file_extension": ".py",
   "mimetype": "text/x-python",
   "name": "python",
   "nbconvert_exporter": "python",
   "pygments_lexer": "ipython3",
   "version": "3.7.4"
  }
 },
 "nbformat": 4,
 "nbformat_minor": 4
}
